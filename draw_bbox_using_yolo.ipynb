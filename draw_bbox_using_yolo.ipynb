{
 "cells": [
  {
   "cell_type": "code",
   "execution_count": 2,
   "metadata": {},
   "outputs": [
    {
     "name": "stdout",
     "output_type": "stream",
     "text": [
      "\n",
      "0: 992x704 6 clefGs, 2 clefFs, 15 timeSig4s, 33 noteheadBlackOnLines, 34 noteheadBlackInSpaces, 1 noteheadHalfOnLine, 1 noteheadWholeInSpace, 2 flag8thDowns, 8 keyFlats, 2 restWholes, 2 restHalfs, 16 restQuarters, 3 rest8ths, 6 dynamicPs, 14 beams, 1 tie, 8 staffs, 67.5ms\n",
      "1: 992x704 6 clefGs, 2 clefFs, 16 timeSig4s, 36 noteheadBlackOnLines, 37 noteheadBlackInSpaces, 1 noteheadHalfOnLine, 1 noteheadWholeInSpace, 3 flag8thDowns, 7 keyFlats, 3 restWholes, 2 restHalfs, 17 restQuarters, 3 rest8ths, 6 dynamicPs, 14 beams, 1 tie, 8 staffs, 67.5ms\n",
      "Speed: 6.1ms preprocess, 67.5ms inference, 2.3ms postprocess per image at shape (1, 3, 992, 704)\n"
     ]
    }
   ],
   "source": [
    "from PIL import Image\n",
    "import os\n",
    "import cv2\n",
    "import numpy as np\n",
    "from ultralytics import YOLO\n",
    "from PIL import Image, ImageDraw, ImageFont, ImageFilter\n",
    "\n",
    "\n",
    "# Load the YOLO model\n",
    "model_path = 'YOLOv8x_Symbols.pt'\n",
    "model = YOLO(model_path)\n",
    "\n",
    "# Directory containing images\n",
    "source_dir = './sample/'\n",
    "image_files = [os.path.join(source_dir, f) for f in os.listdir(source_dir) if f.endswith(('.jpg', '.jpeg', '.png'))]\n",
    "\n",
    "# Run inference on all images\n",
    "results = model(image_files)\n",
    "\n",
    "# Directory to save annotated images\n",
    "save_directory = './'\n",
    "os.makedirs(save_directory, exist_ok=True)\n",
    "\n",
    "def get_contrast_color(bg_color):\n",
    "    # Calculate the luminance of the background color\n",
    "    # using the formula for luminance under the sRGB Luma (Rec. 709)\n",
    "    luminance = (0.299 * bg_color[0] + 0.587 * bg_color[1] + 0.114 * bg_color[2]) / 255\n",
    "    # Return white if the background is dark; black if the background is light\n",
    "    return (255, 255, 255) if luminance < 0.5 else (0, 0, 0)\n",
    "\n",
    "\n",
    "# Function to generate unique colors for each class ID\n",
    "def get_unique_color(tag):\n",
    "    np.random.seed(tag)  # Seed with tag to get consistent color for the same tag\n",
    "    return [int(x) for x in np.random.randint(0, 255, 3)]\n",
    "\n",
    "for result in results:\n",
    "    img_path = result.path\n",
    "    image = Image.open(result.path).convert(\"RGB\")\n",
    "    # Draw predictions on the image\n",
    "    draw = ImageDraw.Draw(image)\n",
    "\n",
    "    if image is None:\n",
    "        print(f\"Failed to load image {img_path}\")\n",
    "        continue\n",
    "\n",
    "    boxes = result.boxes.data\n",
    "    confs = result.boxes.conf\n",
    "    cls_ids = result.boxes.cls\n",
    "\n",
    "    for box, conf, cls_id in zip(boxes, confs, cls_ids):\n",
    "        x1, y1, x2, y2 = int(box[0]), int(box[1]), int(box[2]), int(box[3])\n",
    "        conf = float(conf)\n",
    "        cls_id = int(cls_id)\n",
    "        label = result.names[cls_id]\n",
    "        label_text = f'{label} {conf:.2f}'\n",
    "        font_scale = 2\n",
    "        color = get_unique_color(cls_id)\n",
    "        text_color = get_contrast_color(color)\n",
    "\n",
    "        # Draw bounding box\n",
    "        draw.rectangle([( x1, y1), (x2, y2)], outline='red', width=3)\n",
    "\n",
    "        font_size = 20  # Change this to the desired font size\n",
    "        font = ImageFont.truetype(\"arial.ttf\", 48)  # On many systems, this might work without a full path.\n",
    "        \n",
    "        # Draw label text in color matching the bounding box\n",
    "        draw.text((x1, y1 - 40), label_text, fill='blue')\n",
    "\n",
    "    save_path = os.path.join(save_directory, os.path.basename(img_path))\n",
    "    image.save(save_path)\n"
   ]
  }
 ],
 "metadata": {
  "kernelspec": {
   "display_name": "pytorch-gpu",
   "language": "python",
   "name": "python3"
  },
  "language_info": {
   "codemirror_mode": {
    "name": "ipython",
    "version": 3
   },
   "file_extension": ".py",
   "mimetype": "text/x-python",
   "name": "python",
   "nbconvert_exporter": "python",
   "pygments_lexer": "ipython3",
   "version": "3.11.10"
  }
 },
 "nbformat": 4,
 "nbformat_minor": 2
}
