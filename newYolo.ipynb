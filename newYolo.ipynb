{
 "cells": [
  {
   "cell_type": "code",
   "execution_count": null,
   "id": "9e8b4159",
   "metadata": {},
   "outputs": [],
   "source": [
    "import json\n",
    "import pandas as pd\n",
    "import matplotlib.pyplot as plt\n",
    "import matplotlib.patches as patches\n",
    "import math\n",
    "import numpy as np\n",
    "import re\n",
    "from shapely.geometry import Polygon, LineString, Point\n",
    "import os\n",
    "import torch\n",
    "from torch.utils.data import Dataset, DataLoader\n",
    "from torchvision.datasets import CocoDetection\n",
    "from torchvision.models.detection.faster_rcnn import FastRCNNPredictor\n",
    "import torchvision.transforms as T\n",
    "from torch.optim import SGD, Adam, Adadelta\n",
    "import torchvision\n",
    "from torchvision.models.detection import FasterRCNN\n",
    "from torchvision.models.detection.rpn import AnchorGenerator\n",
    "from torchvision.models.detection.faster_rcnn import FastRCNNPredictor\n",
    "from torchvision import transforms\n",
    "from torch.utils.data._utils.collate import default_collate\n",
    "import torchvision\n",
    "from torchvision.models.detection.backbone_utils import resnet_fpn_backbone\n",
    "from torchvision.transforms import functional as F\n",
    "from PIL import Image, ImageDraw, ImageFont, ImageFilter\n",
    "import random\n",
    "from math import radians, cos, sin\n",
    "import ast\n",
    "import shutil"
   ]
  },
  {
   "cell_type": "markdown",
   "id": "9466a23a",
   "metadata": {},
   "source": [
    "# 1. Unzip & Prepare Directory"
   ]
  },
  {
   "cell_type": "code",
   "execution_count": null,
   "id": "01818f7f",
   "metadata": {},
   "outputs": [],
   "source": [
    "import tarfile\n",
    "\n",
    "tar_path = './ds2_dense.tar.gz'\n",
    "extract_path = './ds2_dense/'\n",
    "\n",
    "with tarfile.open(tar_path, \"r:gz\") as tar:\n",
    "    tar.extractall(path=extract_path)\n",
    "\n",
    "# fix nested folder\n",
    "nested = os.path.join(extract_path, 'ds2_dense')\n",
    "if os.path.exists(nested):\n",
    "    for item in os.listdir(nested):\n",
    "        shutil.move(os.path.join(nested, item), extract_path)\n",
    "    shutil.rmtree(nested)"
   ]
  },
  {
   "cell_type": "markdown",
   "id": "e5d43bf5",
   "metadata": {},
   "source": [
    "# 2. Load Json file"
   ]
  },
  {
   "cell_type": "code",
   "execution_count": null,
   "id": "91543a4f",
   "metadata": {},
   "outputs": [],
   "source": [
    "# 加载 JSON\n",
    "with open('./ds2_dense/deepscores_train.json') as f:\n",
    "    data1 = json.load(f)\n",
    "with open('./ds2_dense/deepscores_test.json') as f:\n",
    "    data2 = json.load(f)\n",
    "\n",
    "# 提取图像和标注\n",
    "train_images = pd.DataFrame(data1['images'])\n",
    "train_annots = pd.DataFrame(data1['annotations']).T\n",
    "\n",
    "test_images = pd.DataFrame(data2['images'])\n",
    "test_annots = pd.DataFrame(data2['annotations']).T"
   ]
  },
  {
   "cell_type": "markdown",
   "id": "b9da64e6",
   "metadata": {},
   "source": [
    "# 3. Splitting the Images into Train and Test sets"
   ]
  },
  {
   "cell_type": "code",
   "execution_count": null,
   "id": "aa234db6",
   "metadata": {},
   "outputs": [],
   "source": [
    "image_dir = './ds2_dense/images'\n",
    "train_dir = './ds2_dense/images/train'\n",
    "test_dir = './ds2_dense/images/test'\n",
    "os.makedirs(train_dir, exist_ok=True)\n",
    "os.makedirs(test_dir, exist_ok=True)"
   ]
  },
  {
   "cell_type": "code",
   "execution_count": null,
   "id": "2cd34cfb",
   "metadata": {},
   "outputs": [],
   "source": [
    "# Move train images to train directory\n",
    "for image_filename in train_images['filename']:\n",
    "   src_path = os.path.join(image_dir, image_filename)\n",
    "   dest_path = os.path.join(train_dir, image_filename)\n",
    "   shutil.move(src_path, dest_path)"
   ]
  },
  {
   "cell_type": "code",
   "execution_count": null,
   "id": "95baf069",
   "metadata": {},
   "outputs": [],
   "source": [
    "# Move train images to test directory\n",
    "for image_filename in test_images['filename']:\n",
    "   src_path = os.path.join(image_dir, image_filename)\n",
    "   dest_path = os.path.join(test_dir, image_filename)\n",
    "   shutil.move(src_path, dest_path)"
   ]
  },
  {
   "cell_type": "markdown",
   "id": "3ef70af9",
   "metadata": {},
   "source": [
    "# 4. Generate Label Mapping (deepscores only)\n",
    "The yolo model wants labels to be zero-based indexing\n"
   ]
  },
  {
   "cell_type": "code",
   "execution_count": null,
   "id": "58ee6642",
   "metadata": {},
   "outputs": [],
   "source": [
    "label_dict = list(data1.values())[2]\n",
    "\n",
    "# 先过滤出 annotation_set == 'deepscores' 的项\n",
    "filtered_items = [(k, v) for k, v in label_dict.items() if v['annotation_set'] == 'deepscores']\n",
    "\n",
    "# 用 enumerate 连续编号\n",
    "cat_dict = {\n",
    "    k: {\n",
    "        'old_id': int(k),\n",
    "        'name': v['name'],\n",
    "        'label': i\n",
    "    } for i, (k, v) in enumerate(filtered_items)\n",
    "}\n",
    "\n",
    "# 转为 DataFrame\n",
    "df_labels = pd.DataFrame.from_dict(cat_dict, orient='index').reset_index(drop=True)\n",
    "\n",
    "df_labels\n"
   ]
  },
  {
   "cell_type": "markdown",
   "id": "92636034",
   "metadata": {},
   "source": [
    "# 5. Attach Label to each obbox"
   ]
  },
  {
   "cell_type": "code",
   "execution_count": null,
   "id": "c0051ef0",
   "metadata": {},
   "outputs": [],
   "source": [
    "class_mapping = dict(zip(df_labels['old_id'].astype(str), df_labels['label']))\n",
    "\n",
    "def map_label(cat_ids):\n",
    "    return max([class_mapping.get(str(cid)) for cid in cat_ids if str(cid) in class_mapping], default=None)\n",
    "\n",
    "train_obboxs['label'] = train_obboxs['cat_id'].apply(map_label)\n",
    "test_obboxs['label'] = test_obboxs['cat_id'].apply(map_label)\n",
    "\n",
    "train_obboxs.head(10)"
   ]
  },
  {
   "cell_type": "markdown",
   "id": "49117d00",
   "metadata": {},
   "source": [
    "# 6. Adjust bounding box for 0 valued w/h"
   ]
  },
  {
   "cell_type": "code",
   "execution_count": null,
   "id": "0d5a7957",
   "metadata": {},
   "outputs": [],
   "source": [
    "def adjust_bbox(bbox):\n",
    "    x_min, y_min, x_max, y_max = bbox\n",
    "    if x_min == x_max:\n",
    "        x_min -= 1\n",
    "        x_max += 1\n",
    "    if y_min == y_max:\n",
    "        y_min -= 1\n",
    "        y_max += 1\n",
    "    return [x_min, y_min, x_max, y_max]\n",
    "\n",
    "train_s['bbox'] = train_annots['a_bbox'].apply(adjust_bbox)\n",
    "test_annots['bbox'] = test_annots['a_bbox'].apply(adjust_bbox)\n"
   ]
  }
 ],
 "metadata": {
  "kernelspec": {
   "display_name": "omr",
   "language": "python",
   "name": "python3"
  },
  "language_info": {
   "codemirror_mode": {
    "name": "ipython",
    "version": 3
   },
   "file_extension": ".py",
   "mimetype": "text/x-python",
   "name": "python",
   "nbconvert_exporter": "python",
   "pygments_lexer": "ipython3",
   "version": "3.10.16"
  }
 },
 "nbformat": 4,
 "nbformat_minor": 5
}
