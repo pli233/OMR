{
 "cells": [
  {
   "cell_type": "code",
   "execution_count": 1,
   "id": "80103802",
   "metadata": {},
   "outputs": [],
   "source": [
    "from PIL import Image\n",
    "import numpy as np\n",
    "from scipy.ndimage import convolve\n",
    "import matplotlib.pyplot as plt\n",
    "\n",
    "def detect_staff_lines(input_path, output_path, \n",
    "                       gray_threshold=100, horizontal_kernel_width=100, \n",
    "                       line_response_threshold=10, min_black_pixel_ratio=0.5):\n",
    "    \n",
    "    # === 图像预处理 ===\n",
    "    img = Image.open(input_path).convert('L')\n",
    "    img_np = np.array(img)\n",
    "    binary = (img_np < gray_threshold).astype(np.uint8)\n",
    "\n",
    "    # 卷积检测水平线\n",
    "    horizontal_kernel = np.ones((1, horizontal_kernel_width), dtype=np.uint8)\n",
    "    response = convolve(binary, horizontal_kernel)\n",
    "    line_candidates = (response > line_response_threshold).astype(np.uint8)\n",
    "\n",
    "    # 黑色像素数量过滤\n",
    "    image_width = img_np.shape[1]\n",
    "    min_black_pixels_per_row = int(min_black_pixel_ratio * image_width)\n",
    "\n",
    "    valid_line_y_coords = [\n",
    "        y for y in range(binary.shape[0])\n",
    "        if np.max(line_candidates[y]) > 0 and np.sum(binary[y]) >= min_black_pixels_per_row\n",
    "    ]\n",
    "\n",
    "    # 可视化 & 保存结果\n",
    "    output_rgb = np.stack([img_np]*3, axis=-1)\n",
    "    for y in valid_line_y_coords:\n",
    "        output_rgb[y, :, 0] = 255  # Red\n",
    "        output_rgb[y, :, 1] = 0\n",
    "        output_rgb[y, :, 2] = 0\n",
    "\n",
    "    # 保存图像\n",
    "    result_img = Image.fromarray(output_rgb)\n",
    "    result_img.save(output_path)\n",
    "    print(f\"[✓] Staff lines saved to {output_path}\")\n"
   ]
  },
  {
   "cell_type": "code",
   "execution_count": 2,
   "id": "56a90767",
   "metadata": {},
   "outputs": [
    {
     "name": "stdout",
     "output_type": "stream",
     "text": [
      "[✓] Staff lines saved to ./staffline_detection/sample1.png\n",
      "[✓] Staff lines saved to ./staffline_detection/sample2.png\n"
     ]
    }
   ],
   "source": [
    "import os\n",
    "# === 批量处理脚本 ===\n",
    "input_dir = \"./samples\"\n",
    "output_dir = \"./staffline_detection\"\n",
    "os.makedirs(output_dir, exist_ok=True)\n",
    "\n",
    "# 支持的图像扩展名\n",
    "valid_exts = {\".png\", \".jpg\", \".jpeg\", \".bmp\"}\n",
    "\n",
    "for filename in os.listdir(input_dir):\n",
    "    if any(filename.lower().endswith(ext) for ext in valid_exts):\n",
    "        input_path = os.path.join(input_dir, filename)\n",
    "        output_path = os.path.join(output_dir, filename)\n",
    "        detect_staff_lines(input_path, output_path)"
   ]
  }
 ],
 "metadata": {
  "kernelspec": {
   "display_name": "base",
   "language": "python",
   "name": "python3"
  },
  "language_info": {
   "codemirror_mode": {
    "name": "ipython",
    "version": 3
   },
   "file_extension": ".py",
   "mimetype": "text/x-python",
   "name": "python",
   "nbconvert_exporter": "python",
   "pygments_lexer": "ipython3",
   "version": "3.12.7"
  }
 },
 "nbformat": 4,
 "nbformat_minor": 5
}
